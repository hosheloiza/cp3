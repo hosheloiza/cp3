{
  "nbformat": 4,
  "nbformat_minor": 0,
  "metadata": {
    "colab": {
      "provenance": []
    },
    "kernelspec": {
      "name": "python3",
      "display_name": "Python 3"
    },
    "language_info": {
      "name": "python"
    }
  },
  "cells": [
    {
      "cell_type": "markdown",
      "source": [
        "cp 3 data base application and data science\n",
        "\n"
      ],
      "metadata": {
        "id": "vC7d51i63rAk"
      }
    },
    {
      "cell_type": "markdown",
      "source": [
        "ex 2"
      ],
      "metadata": {
        "id": "p68JxyaY-354"
      }
    },
    {
      "cell_type": "code",
      "source": [
        "quantidade_pessoas = int(input(\"Quantas pessoas estarão na sua festa? \"))\n",
        "if quantidade_pessoas > 25:\n",
        "    print(\"Desculpe, mas o número máximo de pessoas permitidas é 25.\")\n",
        "else:\n",
        "    convidados = []\n",
        "\n",
        "    for i in range(quantidade_pessoas):\n",
        "        nome_convidado = input(\"Digite o nome do convidado: \")\n",
        "        convidados.append(nome_convidado)\n",
        "\n",
        "# confirmando se meu bff ta na lista\n",
        "\n",
        "    if \"João\" not in convidados:\n",
        "        convidados.append(\"João\")\n",
        "        print(\"João foi adicionado à lista.\")\n",
        "    print(\"\\nLista de convidados:\")\n",
        "\n",
        "    for convidado in convidados:\n",
        "        print(convidado)"
      ],
      "metadata": {
        "colab": {
          "base_uri": "https://localhost:8080/"
        },
        "id": "c6WitrvED1Ee",
        "outputId": "1621b61f-38ff-408f-c342-b100dbee8987"
      },
      "execution_count": 18,
      "outputs": [
        {
          "output_type": "stream",
          "name": "stdout",
          "text": [
            "Quantas pessoas estarão na sua festa? 6\n",
            "Digite o nome do convidado: pedro\n",
            "Digite o nome do convidado: thiago\n",
            "Digite o nome do convidado: lucas\n",
            "Digite o nome do convidado: davi\n",
            "Digite o nome do convidado: lorenzo\n",
            "Digite o nome do convidado: jones\n",
            "João foi adicionado à lista.\n",
            "\n",
            "Lista de convidados:\n",
            "pedro\n",
            "thiago\n",
            "lucas\n",
            "davi\n",
            "lorenzo\n",
            "jones\n",
            "João\n"
          ]
        }
      ]
    }
  ]
}