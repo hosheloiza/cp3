{
  "nbformat": 4,
  "nbformat_minor": 0,
  "metadata": {
    "colab": {
      "provenance": []
    },
    "kernelspec": {
      "name": "python3",
      "display_name": "Python 3"
    },
    "language_info": {
      "name": "python"
    }
  },
  "cells": [
    {
      "cell_type": "markdown",
      "source": [
        "cp 3 data base application and data science\n",
        "\n"
      ],
      "metadata": {
        "id": "vC7d51i63rAk"
      }
    },
    {
      "cell_type": "markdown",
      "source": [
        "ex 4"
      ],
      "metadata": {
        "id": "p68JxyaY-354"
      }
    },
    {
      "cell_type": "code",
      "source": [
        "from sys import maxsize\n",
        "participantes = int(input(\"Informe quantos participantes serão: \"))\n",
        "\n",
        "nomes = []\n",
        "pontuacoes = []\n",
        "\n",
        "for i in range(participantes):\n",
        "    nome = input(\"Digite o nome do participante {}: \".format(i+1))\n",
        "    pontuacao = float(input(\"Digite a pontuação de {}: \".format(nome)))\n",
        "    nomes.append(nome)\n",
        "    pontuacoes.append(pontuacao)\n",
        "\n",
        "maior_pontuacao = max(pontuacoes)\n",
        "menor_pontuacao = min(pontuacoes)\n",
        "media_pontuacao = sum(pontuacoes) /participantes\n",
        "\n",
        "\n",
        "indice_menor_pontuacao = pontuacoes.index(menor_pontuacao)\n",
        "indice_maior_pontuacao = pontuacoes.index(maior_pontuacao)\n",
        "\n",
        "print(\"\\nResultado da competição:\")\n",
        "print(\"Maior pontuação: {}\".format(maior_pontuacao, max(pontuacoes)))\n",
        "print(\"Menor prontuação: {}\".format(menor_pontuacao, min(pontuacoes)))\n",
        "print(\"Pontuação média: {:.2f}\".format(media_pontuacao))\n"
      ],
      "metadata": {
        "colab": {
          "base_uri": "https://localhost:8080/"
        },
        "id": "_IFN19rp-4_o",
        "outputId": "d84a2b3e-eb4d-4ad4-e2b7-224c3759e8c1"
      },
      "execution_count": null,
      "outputs": [
        {
          "output_type": "stream",
          "name": "stdout",
          "text": [
            "Informe quantos participantes serão: 3\n",
            "Digite o nome do participante 1: joao\n",
            "Digite a pontuação de joao: 3\n",
            "Digite o nome do participante 2: flavio\n",
            "Digite a pontuação de flavio: 4\n",
            "Digite o nome do participante 3: pedro\n",
            "Digite a pontuação de pedro: 7\n",
            "\n",
            "Resultado da competição:\n",
            "Maior pontuação: 7.0\n",
            "Menor prontuação: 3.0\n",
            "Pontuação média: 4.67\n"
          ]
        }
      ]
    }
  ]
}