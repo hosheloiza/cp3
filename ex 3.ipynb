{
  "nbformat": 4,
  "nbformat_minor": 0,
  "metadata": {
    "colab": {
      "provenance": []
    },
    "kernelspec": {
      "name": "python3",
      "display_name": "Python 3"
    },
    "language_info": {
      "name": "python"
    }
  },
  "cells": [
    {
      "cell_type": "markdown",
      "source": [
        "cp 3 data base application and data science\n",
        "\n"
      ],
      "metadata": {
        "id": "vC7d51i63rAk"
      }
    },
    {
      "cell_type": "markdown",
      "source": [
        "ex 3\n"
      ],
      "metadata": {
        "id": "p68JxyaY-354"
      }
    },
    {
      "cell_type": "code",
      "source": [
        "itens_na_mao = {\"pano de prato\", \"copo\", \"fosforo\"}\n",
        "carrinho_info = input(\"Quais itens ja estão no carrinho?\")\n",
        "\n",
        "carrinho =  {item.strip() for item in carrinho_info.split(\",\")}\n",
        "\n",
        "restante = itens_na_mao.difference(carrinho)\n",
        "\n",
        "print (\"\\nItens na mão: \")\n",
        "for item in restante:\n",
        "  print(item)"
      ],
      "metadata": {
        "colab": {
          "base_uri": "https://localhost:8080/"
        },
        "id": "c6WitrvED1Ee",
        "outputId": "e29971ea-b1d6-4582-8def-2bf157a47e84"
      },
      "execution_count": null,
      "outputs": [
        {
          "output_type": "stream",
          "name": "stdout",
          "text": [
            "Quais itens ja estão no carrinho?copo\n",
            "\n",
            "Itens na mão: \n",
            "fosforo\n",
            "pano de prato\n"
          ]
        }
      ]
    }
  ]
}